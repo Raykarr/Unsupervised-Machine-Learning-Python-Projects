{
 "cells": [
  {
   "cell_type": "markdown",
   "id": "0bb528ce",
   "metadata": {},
   "source": [
    "## <font color='red'>UML ASS 1 AND 2 (NUMERICAL DATASET) </font>\n",
    "### Kaustubh Raykar\n",
    "PRN : 21070126048   <br> AIML A3 <br> \n",
    "### <font color='green'>PCA ON IRIS NUMERICAL DATASET</font>"
   ]
  },
  {
   "cell_type": "markdown",
   "id": "74c6fecd",
   "metadata": {},
   "source": [
    "#### <font color='blue'>PCA (Principal Component Analysis): </font>\n",
    "Principal Component Analysis (PCA) is a technique used to reduce the dimensionality of the data while preserving the relevant information. \n",
    "\n",
    "It works by transforming the data into a set of orthonormal components which explain the variance in the data. \n",
    "\n",
    "PCA is typically used in exploratory data analysis tasks, and works best when the variables are highly correlated and there is a large amount of data.\n",
    "\n",
    "#### <font color='blue'>LDA (Linear Discriminant Analysis):</font>\n",
    "Linear Discriminant Analysis (LDA) is a supervised machine learning technique used to reduce the dimensionality of the data while preserving the relevant information.\n",
    "\n",
    "It works by projecting the data onto a set of linear discriminants in order to maximize the separation between different classes of data. LDA is usually used in classification tasks, and works best when there is a smaller amount of data and the classes are well-separated.\n"
   ]
  },
  {
   "cell_type": "markdown",
   "id": "7786546d",
   "metadata": {
    "id": "7786546d"
   },
   "source": [
    " ### <font color='blue'>Import Dataset </font>"
   ]
  },
  {
   "cell_type": "code",
   "execution_count": 12,
   "id": "02e0e758",
   "metadata": {
    "colab": {
     "base_uri": "https://localhost:8080/",
     "height": 424
    },
    "id": "02e0e758",
    "outputId": "9035d694-17f2-4f6d-b987-2082ae56dddc"
   },
   "outputs": [
    {
     "data": {
      "text/html": [
       "<div>\n",
       "<style scoped>\n",
       "    .dataframe tbody tr th:only-of-type {\n",
       "        vertical-align: middle;\n",
       "    }\n",
       "\n",
       "    .dataframe tbody tr th {\n",
       "        vertical-align: top;\n",
       "    }\n",
       "\n",
       "    .dataframe thead th {\n",
       "        text-align: right;\n",
       "    }\n",
       "</style>\n",
       "<table border=\"1\" class=\"dataframe\">\n",
       "  <thead>\n",
       "    <tr style=\"text-align: right;\">\n",
       "      <th></th>\n",
       "      <th>sepal length (cm)</th>\n",
       "      <th>sepal width (cm)</th>\n",
       "      <th>petal length (cm)</th>\n",
       "      <th>petal width (cm)</th>\n",
       "      <th>target</th>\n",
       "    </tr>\n",
       "  </thead>\n",
       "  <tbody>\n",
       "    <tr>\n",
       "      <th>0</th>\n",
       "      <td>5.1</td>\n",
       "      <td>3.5</td>\n",
       "      <td>1.4</td>\n",
       "      <td>0.2</td>\n",
       "      <td>0.0</td>\n",
       "    </tr>\n",
       "    <tr>\n",
       "      <th>1</th>\n",
       "      <td>4.9</td>\n",
       "      <td>3.0</td>\n",
       "      <td>1.4</td>\n",
       "      <td>0.2</td>\n",
       "      <td>0.0</td>\n",
       "    </tr>\n",
       "    <tr>\n",
       "      <th>2</th>\n",
       "      <td>4.7</td>\n",
       "      <td>3.2</td>\n",
       "      <td>1.3</td>\n",
       "      <td>0.2</td>\n",
       "      <td>0.0</td>\n",
       "    </tr>\n",
       "    <tr>\n",
       "      <th>3</th>\n",
       "      <td>4.6</td>\n",
       "      <td>3.1</td>\n",
       "      <td>1.5</td>\n",
       "      <td>0.2</td>\n",
       "      <td>0.0</td>\n",
       "    </tr>\n",
       "    <tr>\n",
       "      <th>4</th>\n",
       "      <td>5.0</td>\n",
       "      <td>3.6</td>\n",
       "      <td>1.4</td>\n",
       "      <td>0.2</td>\n",
       "      <td>0.0</td>\n",
       "    </tr>\n",
       "    <tr>\n",
       "      <th>...</th>\n",
       "      <td>...</td>\n",
       "      <td>...</td>\n",
       "      <td>...</td>\n",
       "      <td>...</td>\n",
       "      <td>...</td>\n",
       "    </tr>\n",
       "    <tr>\n",
       "      <th>145</th>\n",
       "      <td>6.7</td>\n",
       "      <td>3.0</td>\n",
       "      <td>5.2</td>\n",
       "      <td>2.3</td>\n",
       "      <td>2.0</td>\n",
       "    </tr>\n",
       "    <tr>\n",
       "      <th>146</th>\n",
       "      <td>6.3</td>\n",
       "      <td>2.5</td>\n",
       "      <td>5.0</td>\n",
       "      <td>1.9</td>\n",
       "      <td>2.0</td>\n",
       "    </tr>\n",
       "    <tr>\n",
       "      <th>147</th>\n",
       "      <td>6.5</td>\n",
       "      <td>3.0</td>\n",
       "      <td>5.2</td>\n",
       "      <td>2.0</td>\n",
       "      <td>2.0</td>\n",
       "    </tr>\n",
       "    <tr>\n",
       "      <th>148</th>\n",
       "      <td>6.2</td>\n",
       "      <td>3.4</td>\n",
       "      <td>5.4</td>\n",
       "      <td>2.3</td>\n",
       "      <td>2.0</td>\n",
       "    </tr>\n",
       "    <tr>\n",
       "      <th>149</th>\n",
       "      <td>5.9</td>\n",
       "      <td>3.0</td>\n",
       "      <td>5.1</td>\n",
       "      <td>1.8</td>\n",
       "      <td>2.0</td>\n",
       "    </tr>\n",
       "  </tbody>\n",
       "</table>\n",
       "<p>150 rows × 5 columns</p>\n",
       "</div>"
      ],
      "text/plain": [
       "     sepal length (cm)  sepal width (cm)  petal length (cm)  petal width (cm)  \\\n",
       "0                  5.1               3.5                1.4               0.2   \n",
       "1                  4.9               3.0                1.4               0.2   \n",
       "2                  4.7               3.2                1.3               0.2   \n",
       "3                  4.6               3.1                1.5               0.2   \n",
       "4                  5.0               3.6                1.4               0.2   \n",
       "..                 ...               ...                ...               ...   \n",
       "145                6.7               3.0                5.2               2.3   \n",
       "146                6.3               2.5                5.0               1.9   \n",
       "147                6.5               3.0                5.2               2.0   \n",
       "148                6.2               3.4                5.4               2.3   \n",
       "149                5.9               3.0                5.1               1.8   \n",
       "\n",
       "     target  \n",
       "0       0.0  \n",
       "1       0.0  \n",
       "2       0.0  \n",
       "3       0.0  \n",
       "4       0.0  \n",
       "..      ...  \n",
       "145     2.0  \n",
       "146     2.0  \n",
       "147     2.0  \n",
       "148     2.0  \n",
       "149     2.0  \n",
       "\n",
       "[150 rows x 5 columns]"
      ]
     },
     "execution_count": 12,
     "metadata": {},
     "output_type": "execute_result"
    }
   ],
   "source": [
    "import numpy as np\n",
    "import pandas as pd\n",
    "from sklearn import datasets\n",
    "iris = datasets.load_iris()\n",
    "iris= pd.DataFrame(data= np.c_[iris['data'], iris['target']],columns= iris['feature_names'] + ['target'])\n",
    "iris"
   ]
  },
  {
   "cell_type": "markdown",
   "id": "1de5ba45",
   "metadata": {
    "id": "1de5ba45"
   },
   "source": [
    " ### <font color='blue'>Dividing dataset into train test split  </font>"
   ]
  },
  {
   "cell_type": "code",
   "execution_count": 13,
   "id": "39e01e70",
   "metadata": {
    "id": "39e01e70"
   },
   "outputs": [],
   "source": [
    "from sklearn.model_selection import train_test_split\n",
    "x = iris.iloc[:, :-1]\n",
    "y = iris.iloc[:, -1]\n",
    "x_train, x_test, y_train, y_test = train_test_split(x, y, test_size=0.25, random_state=1)"
   ]
  },
  {
   "cell_type": "markdown",
   "id": "ac0453cb",
   "metadata": {
    "id": "ac0453cb"
   },
   "source": [
    "### <font color='blue'>Standardizing the train dataset</font>"
   ]
  },
  {
   "cell_type": "code",
   "execution_count": 14,
   "id": "5b625003",
   "metadata": {
    "colab": {
     "base_uri": "https://localhost:8080/"
    },
    "id": "5b625003",
    "outputId": "686461dd-51f4-4589-84a5-f70d9882fb33"
   },
   "outputs": [
    {
     "data": {
      "text/plain": [
       "(112, 4)"
      ]
     },
     "execution_count": 14,
     "metadata": {},
     "output_type": "execute_result"
    }
   ],
   "source": [
    "from sklearn.preprocessing import StandardScaler\n",
    "\n",
    "standardized_scalar=StandardScaler()\n",
    "standardized_data=standardized_scalar.fit_transform(x_train)\n",
    "standardized_data.shape"
   ]
  },
  {
   "cell_type": "markdown",
   "id": "b628f124",
   "metadata": {
    "id": "b628f124"
   },
   "source": [
    " ### <font color='blue'>Applying PCA on the Standardized Train Dataset  </font>"
   ]
  },
  {
   "cell_type": "code",
   "execution_count": 15,
   "id": "443152a4",
   "metadata": {
    "colab": {
     "base_uri": "https://localhost:8080/"
    },
    "id": "443152a4",
    "outputId": "c4f1a889-6c8a-4d33-cc36-b57b73bd4d41"
   },
   "outputs": [
    {
     "data": {
      "text/plain": [
       "(112, 4)"
      ]
     },
     "execution_count": 15,
     "metadata": {},
     "output_type": "execute_result"
    }
   ],
   "source": [
    "from sklearn.decomposition import PCA\n",
    "pca=PCA()\n",
    "pca.n_components=4\n",
    "pca_data=pca.fit_transform(standardized_data)\n",
    "pca_data.shape"
   ]
  },
  {
   "cell_type": "markdown",
   "id": "ca539635",
   "metadata": {
    "id": "ca539635"
   },
   "source": [
    "### <font color='blue'>Applying PCA on the Standardized Test Dataset   </font>"
   ]
  },
  {
   "cell_type": "code",
   "execution_count": 16,
   "id": "244fe9cb",
   "metadata": {
    "id": "244fe9cb"
   },
   "outputs": [],
   "source": [
    "standardized_dataset=standardized_scalar.transform(x_test)\n",
    "test_pca_data=pca.fit_transform(standardized_dataset)"
   ]
  },
  {
   "cell_type": "markdown",
   "id": "8a6cd92f",
   "metadata": {
    "id": "8a6cd92f"
   },
   "source": [
    " ### <font color='blue'>Calculating Percent Variance and Cummulative Variance</font>"
   ]
  },
  {
   "cell_type": "code",
   "execution_count": 17,
   "id": "d90ed48e",
   "metadata": {
    "id": "d90ed48e"
   },
   "outputs": [],
   "source": [
    "percent_variance_retained = pca.explained_variance_ / np.sum(pca.explained_variance_)\n",
    "cumulative_variance_retained=np.cumsum(percent_variance_retained)"
   ]
  },
  {
   "cell_type": "markdown",
   "id": "34e68faa",
   "metadata": {
    "id": "34e68faa"
   },
   "source": [
    "### <font color='blue'>Plotting the Result  </font>"
   ]
  },
  {
   "cell_type": "code",
   "execution_count": 18,
   "id": "d28ce183",
   "metadata": {
    "colab": {
     "base_uri": "https://localhost:8080/",
     "height": 592
    },
    "id": "d28ce183",
    "outputId": "f0b1ecf6-ecf3-411e-c868-49381e380ee5"
   },
   "outputs": [
    {
     "data": {
      "image/png": "[encoded data removed]",
      "text/plain": [
       "<Figure size 700x400 with 1 Axes>"
      ]
     },
     "metadata": {},
     "output_type": "display_data"
    }
   ],
   "source": [
    "import matplotlib.pyplot as plt\n",
    "plt.figure(figsize=(7,4))\n",
    "plot=plt.scatter(pca_data[:,0], pca_data[:,1], c=y_train)\n",
    "plt.legend(handles=plot.legend_elements()[0], labels=list(y_train))\n",
    "plt.show()"
   ]
  },
  {
   "cell_type": "markdown",
   "id": "c51d5ac8",
   "metadata": {
    "id": "c51d5ac8"
   },
   "source": [
    "### <font color='green'>LDA ON IRIS NUMERICAL DATASET</font>"
   ]
  },
  {
   "cell_type": "markdown",
   "id": "aa0ed3b4",
   "metadata": {
    "id": "aa0ed3b4"
   },
   "source": [
    "### <font color='blue'>Applying LDA on the Standardized Train Dataset </font>"
   ]
  },
  {
   "cell_type": "code",
   "execution_count": 19,
   "id": "bf9d5737",
   "metadata": {
    "colab": {
     "base_uri": "https://localhost:8080/"
    },
    "id": "bf9d5737",
    "outputId": "6a200224-3627-4120-dcf5-bd319f9131f8"
   },
   "outputs": [],
   "source": [
    "from sklearn.discriminant_analysis import LinearDiscriminantAnalysis as LDA\n",
    "lda=LDA(n_components=1)\n",
    "x_train=lda.fit_transform(x_train, y_train)\n",
    "x_test=lda.transform(x_test)"
   ]
  },
  {
   "cell_type": "markdown",
   "id": "76f214b7",
   "metadata": {
    "id": "76f214b7"
   },
   "source": [
    "### <font color='blue'>Plotting the Result <font>"
   ]
  },
  {
   "cell_type": "code",
   "execution_count": 20,
   "id": "de18a9db",
   "metadata": {
    "colab": {
     "base_uri": "https://localhost:8080/",
     "height": 592
    },
    "id": "de18a9db",
    "outputId": "fd4da52b-9bd6-412f-8d46-07284913e172"
   },
   "outputs": [
    {
     "data": {
      "image/png": "[encoded data removed]",
      "text/plain": [
       "<Figure size 700x400 with 1 Axes>"
      ]
     },
     "metadata": {},
     "output_type": "display_data"
    }
   ],
   "source": [
    "import matplotlib.pyplot as plt\n",
    "iris = datasets.load_iris()\n",
    "\n",
    "df = pd.DataFrame(data = np.c_[iris['data'], iris['target']],columns = iris['feature_names'] + ['target'])\n",
    "df['species'] = pd.Categorical.from_codes(iris.target, iris.target_names)\n",
    "df.columns = ['s_length', 's_width', 'p_length', 'p_width', 'target', 'species']\n",
    "\n",
    "X = iris.data\n",
    "y = iris.target\n",
    "model = LDA()\n",
    "data_plot = model.fit(X, y).transform(X)\n",
    "target_names = iris.target_names\n",
    "\n",
    "plt.figure(figsize=(7,4))\n",
    "colors = ['red', 'green', 'blue']\n",
    "lw = 2\n",
    "for color, i, target_name in zip(colors, [0, 1, 2], target_names):\n",
    "    plt.scatter(data_plot[y == i, 0], data_plot[y == i, 1], alpha=.8, color=color,\n",
    "                label=target_name)\n",
    "\n",
    "plt.legend(loc='best', shadow=False, scatterpoints=1)\n",
    "plt.show()"
   ]
  },
  {
   "cell_type": "markdown",
   "id": "c882d22e",
   "metadata": {
    "id": "37471398"
   },
   "source": [
    "### <font color='blue'> <center> Thank you </center> </font>"
   ]
  },
  {
   "cell_type": "markdown",
   "id": "a953e517",
   "metadata": {},
   "source": [
    "### <font color='green'>OBSERVATIONS </font>\n",
    "The PCA and LDA results are quite similar. Both techniques were able to successfully separate the three classes of Iris plants. Both techniques were able to reduce the original four dimensions down to two dimensions while still preserving the variance of the data. \n",
    "\n",
    "Overall, the PCA and LDA results on the Iris dataset demonstrate that both techniques are effective in reducing the original four dimensions down to two and accurately classifying the three classes of Iris plants."
   ]
  },
  {
   "cell_type": "markdown",
   "id": "7d910ab9",
   "metadata": {},
   "source": [
    "### <font color='green'> GRAPH OBSERVATIONS </font>\n",
    "\n",
    "The PCA and LDA applied on the IRIS dataset resulted in a graph that clearly shows the separation among the three species of the dataset. <BR>\n",
    "    \n",
    "The three species are labeled as <font color='red'>‘Setosa’</font>, <font color='GREEN'>‘Versicolor’</font>, and <font color='blue'>‘Virginica’</font>. The graph shows that the PCA and LDA were able to separate the three species quite accurately.<BR>\n",
    "    \n",
    "The PCA and LDA have effectively reduced the dimensions of the data from four to two, making it easier to visualize the data. <BR>\n",
    "    \n",
    " The graph clearly shows the separation among the three species and indicates that the PCA and LDA have been successful in capturing the essential information from the dataset."
   ]
  },
  {
   "cell_type": "code",
   "execution_count": null,
   "id": "31761774",
   "metadata": {},
   "outputs": [],
   "source": []
  }
 ],
 "metadata": {
  "colab": {
   "provenance": []
  },
  "kernelspec": {
   "display_name": "Python 3 (ipykernel)",
   "language": "python",
   "name": "python3"
  },
  "language_info": {
   "codemirror_mode": {
    "name": "ipython",
    "version": 3
   },
   "file_extension": ".py",
   "mimetype": "text/x-python",
   "name": "python",
   "nbconvert_exporter": "python",
   "pygments_lexer": "ipython3",
   "version": "3.9.13"
  }
 },
 "nbformat": 4,
 "nbformat_minor": 5
}
